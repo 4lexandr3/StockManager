{
 "cells": [
  {
   "cell_type": "markdown",
   "metadata": {},
   "source": [
    "# ++ Carregar dados históricos da Bovespa em Dataframe para análise ++"
   ]
  },
  {
   "cell_type": "code",
   "execution_count": null,
   "metadata": {},
   "outputs": [],
   "source": [
    "import time\n",
    "time.asctime( time.localtime(time.time()) )"
   ]
  },
  {
   "cell_type": "code",
   "execution_count": null,
   "metadata": {},
   "outputs": [],
   "source": [
    "import pandas as pd\n",
    "from datetime import date\n",
    "pd.__version__"
   ]
  },
  {
   "cell_type": "code",
   "execution_count": null,
   "metadata": {},
   "outputs": [],
   "source": [
    "from IPython.display import FileLink, FileLinks\n",
    "FileLink('Manipulação CSV BB.ipynb')"
   ]
  },
  {
   "cell_type": "code",
   "execution_count": null,
   "metadata": {},
   "outputs": [],
   "source": [
    "# Setando opção do Pandas para mostrar todas as linhas\n",
    "pd.set_option('display.max_rows', None)\n",
    "pd.set_option('display.max_columns', None)\n",
    "\n",
    "# Setando separador de milhar\n",
    "pd.options.display.float_format = '{:,.2f}'.format"
   ]
  },
  {
   "cell_type": "code",
   "execution_count": null,
   "metadata": {},
   "outputs": [],
   "source": [
    "from pacote.functions import *"
   ]
  },
  {
   "cell_type": "code",
   "execution_count": null,
   "metadata": {},
   "outputs": [],
   "source": [
    "LISTA_ARQUIVOS = ['A2022']"
   ]
  },
  {
   "cell_type": "code",
   "execution_count": null,
   "metadata": {},
   "outputs": [],
   "source": [
    "df = carrega_dados(LISTA_ARQUIVOS)"
   ]
  },
  {
   "cell_type": "markdown",
   "metadata": {},
   "source": [
    "### 25 dias, order by 1%"
   ]
  },
  {
   "cell_type": "code",
   "execution_count": null,
   "metadata": {},
   "outputs": [],
   "source": [
    "montaTabela(montaDfPeriodos(df, 25), 6000000, '1.0%', 21, 5)"
   ]
  },
  {
   "cell_type": "markdown",
   "metadata": {},
   "source": [
    "### 20 dias, order by 1%"
   ]
  },
  {
   "cell_type": "code",
   "execution_count": null,
   "metadata": {
    "scrolled": true
   },
   "outputs": [],
   "source": [
    "montaTabela(montaDfPeriodos(df, 20), 6000000, '1.0%', 17, 5)"
   ]
  },
  {
   "cell_type": "markdown",
   "metadata": {},
   "source": [
    "### 15 dias, order by 1%"
   ]
  },
  {
   "cell_type": "code",
   "execution_count": null,
   "metadata": {
    "scrolled": true
   },
   "outputs": [],
   "source": [
    "montaTabela(montaDfPeriodos(df, 15), 6000000, '1.5%', 13, 5)"
   ]
  },
  {
   "cell_type": "markdown",
   "metadata": {},
   "source": [
    "### 10 dias, order by 1%"
   ]
  },
  {
   "cell_type": "code",
   "execution_count": null,
   "metadata": {
    "scrolled": true
   },
   "outputs": [],
   "source": [
    "montaTabela(montaDfPeriodos(df, 10), 6000000, '1.0%', 8, 5)"
   ]
  },
  {
   "cell_type": "markdown",
   "metadata": {},
   "source": [
    "### 5 dias, order by 1%"
   ]
  },
  {
   "cell_type": "code",
   "execution_count": null,
   "metadata": {
    "scrolled": true
   },
   "outputs": [],
   "source": [
    "montaTabela(montaDfPeriodos(df, 5), 6000000, '1.0%', 5, 5)"
   ]
  },
  {
   "cell_type": "markdown",
   "metadata": {},
   "source": [
    "### Consulta ação específica"
   ]
  },
  {
   "cell_type": "code",
   "execution_count": null,
   "metadata": {
    "scrolled": true
   },
   "outputs": [],
   "source": [
    "consultaAcao(df, \"CTSA4\")"
   ]
  },
  {
   "cell_type": "code",
   "execution_count": null,
   "metadata": {},
   "outputs": [],
   "source": [
    "# dfDtMin = df5d.loc[(df[\"dtPregao\"] == dt_min_5d) & (df[\"cdAcao\"] == 'PTBL3')]\n",
    "\n",
    "df25d = buscaPeriodos(df, 24)\n",
    "df5d = buscaPeriodos(df, 4)\n",
    "\n",
    "dt_min_5d  = df5d[\"dtPregao\"].min()\n",
    "dt_min_25d = df25d[\"dtPregao\"].min()\n",
    "dt_max     = df5d[\"dtPregao\"].max()\n",
    "dfDtMin5d  = df5d.loc[(df5d[\"dtPregao\"] == dt_min_5d)].set_index([\"cdAcao\"])\n",
    "dfDtMin25d = df25d.loc[(df25d[\"dtPregao\"] == dt_min_25d)].set_index([\"cdAcao\"])\n",
    "dfDtMax    = df5d.loc[(df5d[\"dtPregao\"] == dt_max)].set_index([\"cdAcao\"])\n",
    "dfAvgVol5d  = buscaMedia(df5d, \"vrVolume\", \"vol\").set_index([\"cdAcao\"])\n",
    "dfAvgVol25d = buscaMedia(df25d, \"vrVolume\", \"vol\").set_index([\"cdAcao\"])"
   ]
  },
  {
   "cell_type": "code",
   "execution_count": null,
   "metadata": {},
   "outputs": [],
   "source": [
    " dfPc5d = pd.DataFrame({\n",
    "         \"dtInicio\":dfDtMin5d[\"dtPregao\"] ,\"dtFim\":dfDtMax[\"dtPregao\"]\n",
    "        ,\"vrInicio\":dfDtMin5d[\"vrFech\"]   ,\"vrFim\":dfDtMax[\"vrFech\"]\n",
    "        ,\"pcPeriodo\":((dfDtMax[\"vrFech\"] - dfDtMin5d[\"vrFech\"]) / dfDtMin5d[\"vrFech\"]) * 100\n",
    "        ,\"avgVol\":dfAvgVol5d[\"vol\"]\n",
    "    })"
   ]
  },
  {
   "cell_type": "code",
   "execution_count": null,
   "metadata": {},
   "outputs": [],
   "source": [
    "dfPc5d.sort_values([\"pcPeriodo\"], ascending=False).loc[(dfPc5d[\"avgVol\"] > 6000000)]"
   ]
  },
  {
   "cell_type": "code",
   "execution_count": null,
   "metadata": {},
   "outputs": [],
   "source": [
    " dfPc25d = pd.DataFrame({\n",
    "         \"dtInicio\":dfDtMin25d[\"dtPregao\"] ,\"dtFim\":dfDtMax[\"dtPregao\"]\n",
    "        ,\"vrInicio\":dfDtMin25d[\"vrFech\"]   ,\"vrFim\":dfDtMax[\"vrFech\"]\n",
    "        ,\"pcPeriodo\":((dfDtMax[\"vrFech\"] - dfDtMin25d[\"vrFech\"]) / dfDtMin25d[\"vrFech\"]) * 100\n",
    "        ,\"avgVol\":dfAvgVol25d[\"vol\"]\n",
    "    })"
   ]
  },
  {
   "cell_type": "code",
   "execution_count": null,
   "metadata": {
    "scrolled": true
   },
   "outputs": [],
   "source": [
    "dfPc25d.sort_values([\"pcPeriodo\"], ascending=False).loc[(dfPc25d[\"avgVol\"] > 6000000)]"
   ]
  },
  {
   "cell_type": "code",
   "execution_count": null,
   "metadata": {},
   "outputs": [],
   "source": [
    "dfPc25d['pcPeriodo']"
   ]
  },
  {
   "cell_type": "code",
   "execution_count": null,
   "metadata": {},
   "outputs": [],
   "source": [
    "def montaLucroPeriodo(df, qt_dias, dias_ant):\n",
    "\n",
    "    dfNdias = buscaPeriodos(df, qt_dias-1)\n",
    "\n",
    "#    i = 0\n",
    "#    while i <= dias_ant:\n",
    "#        dt_max  = dfNdias[\"dtPregao\"].max()\n",
    "#        dfNdias = dfNdias.loc[dfNdias[\"dtPregao\"] != dt_max]\n",
    "#        i += 1\n",
    "    dt_max  = dfNdias[\"dtPregao\"].max()\n",
    "\n",
    "    dt_min   = dfNdias[\"dtPregao\"].min()\n",
    "    dfDtMin  = dfNdias.loc[(dfNdias[\"dtPregao\"] == dt_min)].set_index([\"cdAcao\"])\n",
    "    dfDtMax  = dfNdias.loc[(dfNdias[\"dtPregao\"] == dt_max)].set_index([\"cdAcao\"])\n",
    "    dfAvgVol = buscaMedia(dfNdias, \"vrVolume\", \"vol\").set_index([\"cdAcao\"])\n",
    "\n",
    "    dfPcNdias = pd.DataFrame({\n",
    "         \"dtInicio\":dfDtMin[\"dtPregao\"] ,\"dtFim\":dfDtMax[\"dtPregao\"]\n",
    "        ,\"vrInicio\":dfDtMin[\"vrFech\"]   ,\"vrFim\":dfDtMax[\"vrFech\"]\n",
    "        ,\"pcPeriodo\":((dfDtMax[\"vrFech\"] - dfDtMin[\"vrFech\"]) / dfDtMin[\"vrFech\"]) * 100\n",
    "        ,\"avgVol\":dfAvgVol[\"vol\"]\n",
    "    })\n",
    "    \n",
    "    return dfPcNdias"
   ]
  },
  {
   "cell_type": "code",
   "execution_count": null,
   "metadata": {},
   "outputs": [],
   "source": [
    "df_temp = montaLucroPeriodo(df, 26, 1)"
   ]
  },
  {
   "cell_type": "code",
   "execution_count": null,
   "metadata": {},
   "outputs": [],
   "source": [
    "dfNdias = buscaPeriodos(df, 25)\n",
    "\n",
    "#    i = 0\n",
    "#    while i <= dias_ant:\n",
    "        dt_max  = dfNdias[\"dtPregao\"].max()\n",
    "#        dfNdias = dfNdias.loc[dfNdias[\"dtPregao\"] != dt_max]\n",
    "#        i += 1"
   ]
  },
  {
   "cell_type": "code",
   "execution_count": null,
   "metadata": {},
   "outputs": [],
   "source": []
  },
  {
   "cell_type": "code",
   "execution_count": null,
   "metadata": {},
   "outputs": [],
   "source": [
    "### 25 dias, Order by 0.5% # df05.loc[(df05[\"AvgVol\"] > 6000000) & (df05[\"0.5%\"] >= 23) & (df05[\"AvgVrFech\"] > 5)].sort_values([\"0.5%\", \"1.0%\", \"1.5%\", \"2.0%\"], ascending=False)\n",
    "### 20 dias, Order by 0.5% # df05_20d.loc[(df05_20d[\"AvgVol\"] > 6000000) & (df05_20d[\"0.5%\"] >= 19) & (df05_20d[\"AvgVrFech\"] > 5)].sort_values([\"0.5%\", \"1.0%\", \"1.5%\", \"2.0%\"], ascending=False)\n",
    "### 15 dias, Order by 0.5% # df05_15d.loc[(df05_15d[\"AvgVol\"] > 6000000) & (df05_15d[\"0.5%\"] >= 15) & (df05_15d[\"AvgVrFech\"] > 5)].sort_values([\"0.5%\", \"1.0%\", \"1.5%\", \"2.0%\"], ascending=False)"
   ]
  },
  {
   "cell_type": "markdown",
   "metadata": {},
   "source": [
    "## Definindo valores para compra"
   ]
  },
  {
   "cell_type": "code",
   "execution_count": null,
   "metadata": {},
   "outputs": [],
   "source": [
    "# Valor disponível para cmp / 1000\n",
    "# Valor da ação no leilão\n",
    "vr_corretagem = 9.8\n",
    "emolumentos = 0.000325\n",
    "acao = 'LIGT3'\n",
    "vr_disp = 110\n",
    "vr_acao_leilao = 1148 / 100\n",
    "vr_qtd = round((vr_disp * 1000) / (vr_acao_leilao * 100)) * 100"
   ]
  },
  {
   "cell_type": "code",
   "execution_count": null,
   "metadata": {},
   "outputs": [],
   "source": [
    "vr_cmp = round(vr_acao_leilao * 1.014, 2)\n",
    "\n",
    "vr_tot_cmp = vr_acao_leilao * vr_qtd\n",
    "corret_cmp = vr_corretagem + (vr_tot_cmp * emolumentos)\n",
    "vr_tot_liq_cmp = vr_tot_cmp + corret_cmp\n",
    "\n",
    "vr_acao_vnd_10 = float('{0:.2f}'.format(vr_acao_leilao * 1.0108 + 0.01))\n",
    "vr_tot_vnd_10 = vr_acao_vnd_10 * vr_qtd\n",
    "corret_vnd_10 = vr_corretagem + (vr_tot_vnd_10 * emolumentos)\n",
    "vr_tot_liq_vnd_10 = vr_tot_vnd_10 - corret_vnd_10\n",
    "\n",
    "vr_acao_vnd_15 = float('{0:.2f}'.format(vr_acao_leilao * 1.0158 + 0.01))\n",
    "vr_tot_vnd_15 = vr_acao_vnd_15 * vr_qtd\n",
    "corret_vnd_15 = vr_corretagem + (vr_tot_vnd_15 * emolumentos)\n",
    "vr_tot_liq_vnd_15 = vr_tot_vnd_15 - corret_vnd_15"
   ]
  },
  {
   "cell_type": "code",
   "execution_count": null,
   "metadata": {},
   "outputs": [],
   "source": [
    "d = {'Compra':     ['Quantidade', 'Valor Leilão', 'Total', 'Total líquido', 'Corretagem Compra'],\n",
    "     ' ':          [vr_qtd, vr_acao_leilao, vr_tot_cmp, vr_tot_liq_cmp, corret_cmp],\n",
    "     'Venda 1,0%': ['Valor compra', 'Valor', 'Total', 'Total líquido', 'Corretagem Venda'],\n",
    "     '1,0%':       [vr_cmp, vr_acao_vnd_10, vr_tot_vnd_10, vr_tot_liq_vnd_10, corret_vnd_10],\n",
    "     'Venda 1,5%': [' ', 'Valor', 'Total', 'Total líquido', 'Corretagem Venda'],\n",
    "     '1,5%':       [' ', vr_acao_vnd_15, vr_tot_vnd_15, vr_tot_liq_vnd_15, corret_vnd_15]\n",
    "    }\n",
    "df_calc = pd.DataFrame(data=d)\n",
    "df_calc"
   ]
  },
  {
   "cell_type": "code",
   "execution_count": null,
   "metadata": {},
   "outputs": [],
   "source": [
    "d2 = {'Index':      ['Quantidade', 'Valor', 'Total', 'Total líquido', 'Corretagem'],\n",
    "      'Compra':     [vr_qtd, vr_cmp, vr_tot_cmp, vr_tot_liq_cmp, corret_cmp],\n",
    "      'Venda 1.0%': [vr_qtd, vr_acao_vnd_10, vr_tot_vnd_10, vr_tot_liq_vnd_10, corret_vnd_10],\n",
    "      'Venda 1.5%': [vr_qtd, vr_acao_vnd_15, vr_tot_vnd_15, vr_tot_liq_vnd_15, corret_vnd_15]\n",
    "     }\n",
    "df_calc2 = pd.DataFrame(data=d2)\n",
    "df_calc2.set_index('Index')\n",
    "df_calc2"
   ]
  },
  {
   "cell_type": "code",
   "execution_count": null,
   "metadata": {
    "scrolled": true
   },
   "outputs": [],
   "source": [
    "time.asctime( time.localtime(time.time()) )"
   ]
  }
 ],
 "metadata": {
  "kernelspec": {
   "display_name": "Python 3 (ipykernel)",
   "language": "python",
   "name": "python3"
  },
  "language_info": {
   "codemirror_mode": {
    "name": "ipython",
    "version": 3
   },
   "file_extension": ".py",
   "mimetype": "text/x-python",
   "name": "python",
   "nbconvert_exporter": "python",
   "pygments_lexer": "ipython3",
   "version": "3.9.7"
  }
 },
 "nbformat": 4,
 "nbformat_minor": 4
}
