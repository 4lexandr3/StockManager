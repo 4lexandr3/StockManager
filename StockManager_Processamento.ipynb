{
 "cells": [
  {
   "cell_type": "markdown",
   "metadata": {},
   "source": [
    "# ++ Carregar dados históricos da Bovespa em Dataframe para análise ++"
   ]
  },
  {
   "cell_type": "code",
   "execution_count": null,
   "metadata": {},
   "outputs": [],
   "source": [
    "from datetime import date, datetime, timedelta\n",
    "import time\n",
    "hoje = datetime.today().strftime('%d/%m/%Y')\n",
    "time.asctime( time.localtime(time.time()) )"
   ]
  },
  {
   "cell_type": "code",
   "execution_count": null,
   "metadata": {},
   "outputs": [],
   "source": [
    "import pandas as pd\n",
    "from ipywidgets import IntProgress\n",
    "import ipywidgets as widgets\n",
    "import json\n",
    "from bs4 import BeautifulSoup\n",
    "pd.__version__"
   ]
  },
  {
   "cell_type": "code",
   "execution_count": null,
   "metadata": {},
   "outputs": [],
   "source": [
    "from IPython.display import FileLink, FileLinks, display, clear_output, Markdown\n",
    "FileLink('Resultados.ipynb')"
   ]
  },
  {
   "cell_type": "code",
   "execution_count": null,
   "metadata": {},
   "outputs": [],
   "source": [
    "# Setando opção do Pandas para mostrar todas as linhas\n",
    "pd.set_option('display.max_rows', None)\n",
    "pd.set_option('display.max_columns', None)\n",
    "\n",
    "# Setando separador de milhar\n",
    "pd.options.display.float_format = '{:,.2f}'.format"
   ]
  },
  {
   "cell_type": "code",
   "execution_count": null,
   "metadata": {},
   "outputs": [],
   "source": [
    "from pacote.functions import *"
   ]
  },
  {
   "cell_type": "code",
   "execution_count": null,
   "metadata": {},
   "outputs": [],
   "source": [
    "ano = time.localtime().tm_year\n",
    "if time.localtime().tm_mon < 3 and ano == time.localtime().tm_year:\n",
    "    str_ano, str_nov_ant, str_dez_ant = f'A{ano}', f'M11{ano-1}', f'M12{ano-1}'\n",
    "    LISTA_ARQUIVOS = [str_ano, str_nov_ant, str_dez_ant]\n",
    "else:\n",
    "    str_ano = f'A{ano}'\n",
    "    LISTA_ARQUIVOS = [str_ano]"
   ]
  },
  {
   "cell_type": "code",
   "execution_count": null,
   "metadata": {},
   "outputs": [],
   "source": [
    "ativos_dividendos_hoje = busca_ativos_dividendos()"
   ]
  },
  {
   "cell_type": "code",
   "execution_count": null,
   "metadata": {},
   "outputs": [],
   "source": [
    "df = carrega_dados(LISTA_ARQUIVOS)"
   ]
  },
  {
   "cell_type": "code",
   "execution_count": null,
   "metadata": {},
   "outputs": [],
   "source": [
    "# Monday is 0 and Sunday is 6.\n",
    "dia_semana  = datetime.today().weekday()\n",
    "ajuste_dias = -3 if dia_semana == 0 else -1\n",
    "dt_esperado_ult = (datetime.today() + timedelta(days=ajuste_dias)).strftime('%Y-%m-%d')\n",
    "dt_max = str(df[\"dtPregao\"].max()).split()[0]\n",
    "\n",
    "if dt_esperado_ult == dt_max:\n",
    "    font_color=\"alert-success\"\n",
    "    a = \"Atualizado!\"\n",
    "else:\n",
    "    font_color=\"alert-danger\"\n",
    "    a = \"Desatualizado!!! Última data \" + str(dt_max)\n",
    "def printmd(string):\n",
    "    display(Markdown(string))"
   ]
  },
  {
   "cell_type": "code",
   "execution_count": null,
   "metadata": {
    "scrolled": true
   },
   "outputs": [],
   "source": [
    "#  df_n_dias | vol | col_pc | pc_min | avg_vr_fech\n",
    "\n",
    "style, layout, max_count, parm_vol = {'description_width':'initial'}, {'width':'400px'}, 7, 1000000\n",
    "bar = IntProgress(min=0, max=max_count, style=style, layout=layout) # instantiate the bar\n",
    "display(bar) # display the bar\n",
    "\n",
    "d25 = monta_tabela(monta_df_periodos(df, 25), parm_vol, '1.0%', 24, 0.5, bar)\n",
    "d20 = monta_tabela(monta_df_periodos(df, 20), parm_vol, '1.0%', 19, 0.5, bar)\n",
    "d15 = monta_tabela(monta_df_periodos(df, 15), parm_vol, '1.0%', 14, 0.5, bar)\n",
    "d10 = monta_tabela(monta_df_periodos(df, 10), parm_vol, '1.0%', 9, 0.5, bar)\n",
    "d05 = monta_tabela(monta_df_periodos(df, 5), parm_vol, '1.0%', 5, 0.5, bar)\n",
    "d04 = monta_tabela(monta_df_periodos(df, 4), parm_vol, '1.0%', 4, 0.5, bar)\n",
    "d03 = monta_tabela(monta_df_periodos(df, 3), parm_vol, '1.0%', 3, 0.5, bar)\n",
    "merge1 = pd.merge(d25['Acao'], d20['Acao'], how ='inner', on =['Acao'])\n",
    "merge2 = pd.merge(merge1, d15['Acao'], how ='inner', on =['Acao'])\n",
    "merge3 = pd.merge(merge2, d10['Acao'], how ='inner', on =['Acao'])\n",
    "merge_final = pd.merge(merge3, d05['Acao'], how ='inner', on =['Acao'])\n",
    "if merge_final.empty:\n",
    "    merge_final = \"<< Sem ações boas em todo o período >>\""
   ]
  },
  {
   "cell_type": "code",
   "execution_count": null,
   "metadata": {},
   "outputs": [],
   "source": [
    "%run definicao_botoes.ipynb"
   ]
  },
  {
   "cell_type": "code",
   "execution_count": null,
   "metadata": {},
   "outputs": [],
   "source": [
    "# Setando definição de cores\n",
    "def color_red_dividend(val):\n",
    "    color = 'red' if val in ativos_dividendos_hoje else 'black'\n",
    "    return 'color: %s' % color"
   ]
  },
  {
   "cell_type": "code",
   "execution_count": null,
   "metadata": {},
   "outputs": [],
   "source": [
    "d25_format = d25.style.applymap(color_red_dividend, subset=['Acao'])\n",
    "d20_format = d20.style.applymap(color_red_dividend, subset=['Acao'])\n",
    "d15_format = d15.style.applymap(color_red_dividend, subset=['Acao'])\n",
    "d10_format = d10.style.applymap(color_red_dividend, subset=['Acao'])\n",
    "d05_format = d05.style.applymap(color_red_dividend, subset=['Acao'])\n",
    "d04_format = d04.style.applymap(color_red_dividend, subset=['Acao'])\n",
    "d03_format = d03.style.applymap(color_red_dividend, subset=['Acao'])\n",
    "d25_format = d25_format.format({\"AvgVol\": \"{:,.2f}\".format,\"AvgVrFech\": \"{:,.2f}\".format,\"AvgPcAbert\": \"{:,.2f}\".format})\n",
    "d20_format = d20_format.format({\"AvgVol\": \"{:,.2f}\".format,\"AvgVrFech\": \"{:,.2f}\".format,\"AvgPcAbert\": \"{:,.2f}\".format})\n",
    "d15_format = d15_format.format({\"AvgVol\": \"{:,.2f}\".format,\"AvgVrFech\": \"{:,.2f}\".format,\"AvgPcAbert\": \"{:,.2f}\".format})\n",
    "d10_format = d10_format.format({\"AvgVol\": \"{:,.2f}\".format,\"AvgVrFech\": \"{:,.2f}\".format,\"AvgPcAbert\": \"{:,.2f}\".format})\n",
    "d05_format = d05_format.format({\"AvgVol\": \"{:,.2f}\".format,\"AvgVrFech\": \"{:,.2f}\".format,\"AvgPcAbert\": \"{:,.2f}\".format})\n",
    "d04_format = d04_format.format({\"AvgVol\": \"{:,.2f}\".format,\"AvgVrFech\": \"{:,.2f}\".format,\"AvgPcAbert\": \"{:,.2f}\".format})\n",
    "d03_format = d03_format.format({\"AvgVol\": \"{:,.2f}\".format,\"AvgVrFech\": \"{:,.2f}\".format,\"AvgPcAbert\": \"{:,.2f}\".format})"
   ]
  },
  {
   "cell_type": "code",
   "execution_count": null,
   "metadata": {
    "scrolled": true
   },
   "outputs": [],
   "source": [
    "printmd(f'**<div class={font_color}>{hoje}, Arquivo {a}</div>**')"
   ]
  },
  {
   "cell_type": "markdown",
   "metadata": {},
   "source": [
    "<p style=\"color:white; background-color: #366092; font-size: 15pt; padding: 5px 0px 5px 10px; font-weight: bold\">  Dividendos Hoje </p>"
   ]
  },
  {
   "cell_type": "code",
   "execution_count": null,
   "metadata": {},
   "outputs": [],
   "source": [
    "ativos_dividendos_hoje"
   ]
  },
  {
   "cell_type": "markdown",
   "metadata": {},
   "source": [
    "<p style=\"color:white; background-color: #366092; font-size: 15pt; padding: 5px 0px 5px 10px; font-weight: bold\">  25 dias, order by 1% </p>"
   ]
  },
  {
   "cell_type": "code",
   "execution_count": null,
   "metadata": {
    "scrolled": true
   },
   "outputs": [],
   "source": [
    "d25_format if not d25.empty else print('<< Sem ações boas para 25 dias >>')"
   ]
  },
  {
   "cell_type": "markdown",
   "metadata": {},
   "source": [
    "<p style=\"color:white; background-color: #366092; font-size: 15pt; padding: 5px 0px 5px 10px; font-weight: bold\">  20 dias, order by 1% </p>"
   ]
  },
  {
   "cell_type": "code",
   "execution_count": null,
   "metadata": {
    "scrolled": false
   },
   "outputs": [],
   "source": [
    "d20_format if not d20.empty else print('<< Sem ações boas para 20 dias >>')"
   ]
  },
  {
   "cell_type": "markdown",
   "metadata": {},
   "source": [
    "<p style=\"color:white; background-color: #366092; font-size: 15pt; padding: 5px 0px 5px 10px; font-weight: bold\">  15 dias, order by 1% </p>"
   ]
  },
  {
   "cell_type": "code",
   "execution_count": null,
   "metadata": {
    "scrolled": true
   },
   "outputs": [],
   "source": [
    "d15_format if not d15.empty else print('<< Sem ações boas para 10 dias >>')"
   ]
  },
  {
   "cell_type": "markdown",
   "metadata": {},
   "source": [
    "<p style=\"color:white; background-color: #366092; font-size: 15pt; padding: 5px 0px 5px 10px; font-weight: bold\">  10 dias, order by 1% </p>"
   ]
  },
  {
   "cell_type": "code",
   "execution_count": null,
   "metadata": {
    "scrolled": true
   },
   "outputs": [],
   "source": [
    "d10_format if not d10.empty else print('<< Sem ações boas para 10 dias >>')"
   ]
  },
  {
   "cell_type": "markdown",
   "metadata": {},
   "source": [
    "<p style=\"color:white; background-color: #366092; font-size: 15pt; padding: 5px 0px 5px 10px; font-weight: bold\">  5 dias, order by 1% </p>"
   ]
  },
  {
   "cell_type": "code",
   "execution_count": null,
   "metadata": {
    "scrolled": true
   },
   "outputs": [],
   "source": [
    "d05_format"
   ]
  },
  {
   "cell_type": "code",
   "execution_count": null,
   "metadata": {
    "scrolled": true
   },
   "outputs": [],
   "source": [
    "d04_format"
   ]
  },
  {
   "cell_type": "code",
   "execution_count": null,
   "metadata": {
    "scrolled": true
   },
   "outputs": [],
   "source": [
    "d03_format"
   ]
  },
  {
   "cell_type": "code",
   "execution_count": null,
   "metadata": {
    "scrolled": true
   },
   "outputs": [],
   "source": [
    "printmd(f'**<div class={font_color}>{hoje}, Status {a}</div>**')"
   ]
  },
  {
   "cell_type": "markdown",
   "metadata": {},
   "source": [
    "<p style=\"color:white; background-color: #366092; font-size: 15pt; padding: 5px 0px 5px 10px; font-weight: bold\">  Consulta ação específica </p>"
   ]
  },
  {
   "cell_type": "code",
   "execution_count": null,
   "metadata": {
    "scrolled": true
   },
   "outputs": [],
   "source": [
    "acao_adhoc = \"goll54\"\n",
    "\n",
    "consulta_acao_formatada(df, acao_adhoc)"
   ]
  },
  {
   "cell_type": "code",
   "execution_count": null,
   "metadata": {
    "scrolled": true
   },
   "outputs": [],
   "source": [
    "%run graficos_acao.ipynb"
   ]
  },
  {
   "cell_type": "code",
   "execution_count": null,
   "metadata": {},
   "outputs": [],
   "source": [
    "printmd(f'**<div style=\"color:white; background-color: green; font-size: 15pt; padding: 5px 0px 5px 10px; font-weight: bold\">Botões para melhores Ações de {acao_botoes}</div>**')"
   ]
  },
  {
   "cell_type": "code",
   "execution_count": null,
   "metadata": {
    "scrolled": false
   },
   "outputs": [],
   "source": [
    "buttons = widgets.HBox(lista_buttons)\n",
    "widgets.VBox([buttons, output])"
   ]
  },
  {
   "cell_type": "markdown",
   "metadata": {},
   "source": [
    "<p style=\"color:white; background-color: #F4750C; font-size: 15pt; padding: 5px 0px 5px 10px; font-weight: bold\">  Ações presentes em todos os períodos </p>"
   ]
  },
  {
   "cell_type": "code",
   "execution_count": null,
   "metadata": {
    "scrolled": true
   },
   "outputs": [],
   "source": [
    "merge_final"
   ]
  },
  {
   "cell_type": "markdown",
   "metadata": {},
   "source": [
    "<p style=\"color:white; background-color: #F4750C; font-size: 15pt; padding: 5px 0px 5px 10px; font-weight: bold\">  Grandes Variações de Volume </p>"
   ]
  },
  {
   "cell_type": "code",
   "execution_count": null,
   "metadata": {
    "scrolled": true
   },
   "outputs": [],
   "source": [
    "grandes_variacoes_volume(df)"
   ]
  },
  {
   "cell_type": "markdown",
   "metadata": {},
   "source": [
    "<p style=\"color:white; background-color: #F4750C; font-size: 15pt; padding: 5px 0px 5px 10px; font-weight: bold\">   </p>"
   ]
  },
  {
   "cell_type": "code",
   "execution_count": null,
   "metadata": {},
   "outputs": [],
   "source": [
    "%run graficos_periodos.ipynb"
   ]
  },
  {
   "cell_type": "code",
   "execution_count": null,
   "metadata": {},
   "outputs": [],
   "source": [
    "bla"
   ]
  },
  {
   "cell_type": "code",
   "execution_count": null,
   "metadata": {},
   "outputs": [],
   "source": [
    "# https://stackoverflow.com/questions/39450065/python-3-read-write-compressed-json-objects-from-to-gzip-file\n",
    "import gzip\n",
    "import json\n",
    "\n",
    "def write_json_gzip(data, jsonfilename):                         # 1. data\n",
    "    json_str = data.to_json(date_format='iso', orient='records') # 2. string (i.e. JSON)\n",
    "    json_bytes = json_str.encode('utf-8')                        # 3. bytes (i.e. UTF-8)\n",
    "\n",
    "    with gzip.open(jsonfilename, 'w') as fout:                   # 4. fewer bytes (i.e. gzip)\n",
    "        fout.write(json_bytes)\n",
    "        \n",
    "def read_json_gzip(jsonfilename):\n",
    "    with gzip.open(jsonfilename, 'r') as fin:        # 4. gzip\n",
    "        json_bytes = fin.read()                      # 3. bytes (i.e. UTF-8)\n",
    "\n",
    "    json_str = json_bytes.decode('utf-8')            # 2. string (i.e. JSON)\n",
    "    df_json = pd.read_json(json_str)\n",
    "    \n",
    "    df_json['dtPregao'] = pd.to_datetime(df_json['dtPregao']).dt.strftime('%Y-%m-%d')\n",
    "\n",
    "    return df_json"
   ]
  },
  {
   "cell_type": "code",
   "execution_count": null,
   "metadata": {},
   "outputs": [],
   "source": [
    "jsonfilename = 'teste.json.gz'\n",
    "# write_json_gzip(consulta_acao(df, acao_adhoc), jsonfilename)\n",
    "write_json_gzip(df, jsonfilename)"
   ]
  },
  {
   "cell_type": "code",
   "execution_count": null,
   "metadata": {
    "scrolled": true
   },
   "outputs": [],
   "source": [
    "# read_json_gzip(jsonfilename)"
   ]
  },
  {
   "cell_type": "code",
   "execution_count": null,
   "metadata": {},
   "outputs": [],
   "source": []
  },
  {
   "cell_type": "code",
   "execution_count": null,
   "metadata": {},
   "outputs": [],
   "source": []
  }
 ],
 "metadata": {
  "kernelspec": {
   "display_name": "Python 3 (ipykernel)",
   "language": "python",
   "name": "python3"
  },
  "language_info": {
   "codemirror_mode": {
    "name": "ipython",
    "version": 3
   },
   "file_extension": ".py",
   "mimetype": "text/x-python",
   "name": "python",
   "nbconvert_exporter": "python",
   "pygments_lexer": "ipython3",
   "version": "3.8.20"
  }
 },
 "nbformat": 4,
 "nbformat_minor": 4
}
