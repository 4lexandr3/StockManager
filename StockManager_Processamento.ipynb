{
 "cells": [
  {
   "cell_type": "markdown",
   "metadata": {},
   "source": [
    "# Carregar dados históricos da Bovespa em dataframe para análise"
   ]
  },
  {
   "cell_type": "code",
   "execution_count": 1,
   "metadata": {},
   "outputs": [
    {
     "data": {
      "text/plain": [
       "'1.0.5'"
      ]
     },
     "execution_count": 1,
     "metadata": {},
     "output_type": "execute_result"
    }
   ],
   "source": [
    "import sys\n",
    "from pandas import Series\n",
    "import pandas as pd\n",
    "from datetime import date\n",
    "pd.__version__"
   ]
  },
  {
   "cell_type": "code",
   "execution_count": 2,
   "metadata": {},
   "outputs": [
    {
     "data": {
      "text/plain": [
       "'3.2.2'"
      ]
     },
     "execution_count": 2,
     "metadata": {},
     "output_type": "execute_result"
    }
   ],
   "source": [
    "import matplotlib as mat\n",
    "mat.__version__"
   ]
  },
  {
   "cell_type": "code",
   "execution_count": 3,
   "metadata": {},
   "outputs": [],
   "source": [
    "import matplotlib.pyplot as plt\n",
    "%matplotlib notebook"
   ]
  },
  {
   "cell_type": "code",
   "execution_count": 4,
   "metadata": {},
   "outputs": [],
   "source": [
    "# Setando opção do Pandas para mostrar todas as linhas\n",
    "# pd.set_option('display.max_rows', None)\n",
    "pd.set_option('display.max_columns', None)"
   ]
  },
  {
   "cell_type": "code",
   "execution_count": 5,
   "metadata": {},
   "outputs": [],
   "source": [
    "# Setando separador de milhar\n",
    "pd.options.display.float_format = '{:,.2f}'.format"
   ]
  },
  {
   "cell_type": "code",
   "execution_count": 6,
   "metadata": {},
   "outputs": [],
   "source": [
    "# vr_investimento_padrao = 20000"
   ]
  },
  {
   "cell_type": "code",
   "execution_count": 7,
   "metadata": {},
   "outputs": [],
   "source": [
    "def carrega_dados():\n",
    "    layout = [2, 8, 2, 12, 3, 12, 10, 3, 4, 13, 13, 13, 13, 13, 13, 13, 5, 18, 18, 13, 1, 8, 7, 13, 12, 3]\n",
    "    df = pd.read_fwf(\"arquivos/COTAHIST_A2021.ZIP\", widths=layout, compression='zip',engine='c',\n",
    "                    names=[\"TIPREG\", \"DTEXCH\", \"CODBDI\", \"CODNEG\", \"TPMERC\", \"NOMRES\", \"ESPECI\", \"PRAZOT\", \"MODREF\", \"PREABE\", \"PREMAX\", \"PREMIN\", \"PREMED\", \"PREULT\", \"PREOFC\", \"PREOFV\", \"TOTNEG\", \"QUATOT\", \"VOLTOT\", \"PREEXE\", \"INDOPC\", \"DATVEN\", \"FATCOT\", \"PTOEXE\", \"CODISI\", \"DISMES\"])\n",
    "    df = df.loc[df[\"CODBDI\"] == 2]\n",
    "    \n",
    "    df02 = pd.DataFrame({\n",
    "         \"cdAcao\":df[\"CODNEG\"]\n",
    "        ,\"dtPregao\":pd.to_datetime(df[\"DTEXCH\"], format=\"%Y%m%d\", errors=\"ignore\")\n",
    "        ,\"vrFech\":df[\"PREULT\"] / 100\n",
    "        ,\"vrVolume\":df[\"VOLTOT\"] / 100\n",
    "    #    ,\"pc_variacao\":((df[\"PREULT\"] / df[\"PREULT\"].shift(1)) -1) * 100\n",
    "        ,\"vrMaxDia\":df[\"PREMAX\"] / 100\n",
    "        ,\"vrMinDia\":df[\"PREMIN\"] / 100\n",
    "    #    ,\"pc_maximo_dia\":\n",
    "    #    ,\"pc_minimo_dia\":\n",
    "        ,\"vrAbert\":df[\"PREABE\"] / 100\n",
    "    #    ,\"pc_abertura\":\n",
    "    #    ,\"ic_0_50_pc\":\n",
    "    #    ,\"ic_1_00_pc\":\n",
    "    #    ,\"ic_1_50_pc\":\n",
    "    #    ,\"ic_2_00_pc\":\n",
    "    #    ,\"ic_2_50_pc\":\n",
    "    #    ,\"ic_3_00_pc\":\n",
    "    #    ,\"vr_result_1_00_pc\":\n",
    "    #    ,\"vr_result_1_50_pc\":\n",
    "    #    ,\"vr_result_2_00_pc\":\n",
    "    #    ,\"vr_result_2_50_pc\":\n",
    "    #    ,\"vr_result_3_00_pc\":\n",
    "    })\n",
    "    df02 = df02.sort_values([\"cdAcao\", \"dtPregao\"], ascending=True)\n",
    "    \n",
    "    df02[\"pcVar\"], df02[\"pcMaxDia\"], df02[\"pcMinDia\"], df02[\"pcAbert\"] = [\n",
    "         ((df02.vrFech   / df02.vrFech.shift(1)) -1) *100\n",
    "        ,((df02.vrMaxDia / df02.vrFech.shift(1)) -1) *100\n",
    "        ,((df02.vrMinDia / df02.vrFech.shift(1)) -1) *100\n",
    "        ,((df02.vrAbert  / df02.vrFech.shift(1)) -1) *100\n",
    "        ]\n",
    "    \n",
    "    df02[\"ic05\"], df02[\"ic10\"], df02[\"ic15\"], df02[\"ic20\"], df02[\"ic25\"], df02[\"ic30\"] = [\n",
    "         df02.apply(condicao05, axis=1)\n",
    "        ,df02.apply(condicao10, axis=1)\n",
    "        ,df02.apply(condicao15, axis=1)\n",
    "        ,df02.apply(condicao20, axis=1)\n",
    "        ,df02.apply(condicao25, axis=1)\n",
    "        ,df02.apply(condicao30, axis=1)\n",
    "        ]\n",
    "\n",
    "    # Filtrando Ação\n",
    "    # df02.loc[df02[\"cdAcao\"]==\"AMBP3\"].sort_values([\"cdAcao\", \"dtPregao\"], ascending=False)\n",
    "    \n",
    "    return df02"
   ]
  },
  {
   "cell_type": "code",
   "execution_count": 8,
   "metadata": {},
   "outputs": [],
   "source": [
    "def condicao05(dfTmp):\n",
    "    return 1 if (dfTmp[\"pcMaxDia\"] > 0.5) else 0"
   ]
  },
  {
   "cell_type": "code",
   "execution_count": 9,
   "metadata": {},
   "outputs": [],
   "source": [
    "def condicao10(dfTmp):\n",
    "    return 1 if (dfTmp[\"pcMaxDia\"] > 1) else 0"
   ]
  },
  {
   "cell_type": "code",
   "execution_count": 10,
   "metadata": {},
   "outputs": [],
   "source": [
    "def condicao15(dfTmp):\n",
    "    return 1 if (dfTmp[\"pcMaxDia\"] > 1.5) else 0"
   ]
  },
  {
   "cell_type": "code",
   "execution_count": 11,
   "metadata": {},
   "outputs": [],
   "source": [
    "def condicao20(dfTmp):\n",
    "    return 1 if (dfTmp[\"pcMaxDia\"] > 2) else 0"
   ]
  },
  {
   "cell_type": "code",
   "execution_count": 12,
   "metadata": {},
   "outputs": [],
   "source": [
    "def condicao25(dfTmp):\n",
    "    return 1 if (dfTmp[\"pcMaxDia\"] > 2.5) else 0"
   ]
  },
  {
   "cell_type": "code",
   "execution_count": 13,
   "metadata": {},
   "outputs": [],
   "source": [
    "def condicao30(dfTmp):\n",
    "    return 1 if (dfTmp[\"pcMaxDia\"] > 3) else 0"
   ]
  },
  {
   "cell_type": "code",
   "execution_count": 14,
   "metadata": {},
   "outputs": [],
   "source": [
    "# Exclui header e trailer\n",
    "# df = df.drop(df.index[[0, -1]])"
   ]
  },
  {
   "cell_type": "code",
   "execution_count": null,
   "metadata": {
    "scrolled": true
   },
   "outputs": [],
   "source": [
    "df = carrega_dados()"
   ]
  },
  {
   "cell_type": "code",
   "execution_count": null,
   "metadata": {
    "scrolled": true
   },
   "outputs": [],
   "source": [
    "df"
   ]
  },
  {
   "cell_type": "code",
   "execution_count": null,
   "metadata": {},
   "outputs": [],
   "source": [
    "# Seleciona últimos 25 dias de cada ação\n",
    "df25d = df.loc[df[\"dtPregao\"]>=(df.dtPregao.drop_duplicates().sort_values(ascending=False).iloc[24])].sort_values([\"cdAcao\", \"dtPregao\"], ascending=False)\n",
    "df15d = df.loc[df[\"dtPregao\"]>=(df.dtPregao.drop_duplicates().sort_values(ascending=False).iloc[14])].sort_values([\"cdAcao\", \"dtPregao\"], ascending=False)\n",
    "df20d = df.loc[df[\"dtPregao\"]>=(df.dtPregao.drop_duplicates().sort_values(ascending=False).iloc[19])].sort_values([\"cdAcao\", \"dtPregao\"], ascending=False)"
   ]
  },
  {
   "cell_type": "code",
   "execution_count": null,
   "metadata": {},
   "outputs": [],
   "source": [
    "df05 = df25d.groupby(\"cdAcao\")[\"pcMaxDia\"].apply(lambda x: (x>0.5).sum()).reset_index(name=\"0.5%\")\n",
    "df10 = df25d.groupby(\"cdAcao\")[\"pcMaxDia\"].apply(lambda x: (x>1.0).sum()).reset_index(name=\"resultado\")\n",
    "df15 = df25d.groupby(\"cdAcao\")[\"pcMaxDia\"].apply(lambda x: (x>1.5).sum()).reset_index(name=\"resultado\")\n",
    "df20 = df25d.groupby(\"cdAcao\")[\"pcMaxDia\"].apply(lambda x: (x>2.0).sum()).reset_index(name=\"resultado\")\n",
    "df25 = df25d.groupby(\"cdAcao\")[\"pcMaxDia\"].apply(lambda x: (x>2.5).sum()).reset_index(name=\"resultado\")\n",
    "df30 = df25d.groupby(\"cdAcao\")[\"pcMaxDia\"].apply(lambda x: (x>3.0).sum()).reset_index(name=\"resultado\")\n",
    "dfVol = df25d.groupby(\"cdAcao\")[\"vrVolume\"].agg(\"mean\").reset_index(name=\"vol\")\n",
    "dfVrFech = df25d.groupby(\"cdAcao\")[\"vrFech\"].agg(\"mean\").reset_index(name=\"vrFech\")\n",
    "\n",
    "df05_15d = df15d.groupby(\"cdAcao\")[\"pcMaxDia\"].apply(lambda x: (x>0.5).sum()).reset_index(name=\"0.5%\")\n",
    "df10_15d = df15d.groupby(\"cdAcao\")[\"pcMaxDia\"].apply(lambda x: (x>1.0).sum()).reset_index(name=\"resultado\")\n",
    "df15_15d = df15d.groupby(\"cdAcao\")[\"pcMaxDia\"].apply(lambda x: (x>1.5).sum()).reset_index(name=\"resultado\")\n",
    "df20_15d = df15d.groupby(\"cdAcao\")[\"pcMaxDia\"].apply(lambda x: (x>2.0).sum()).reset_index(name=\"resultado\")\n",
    "df25_15d = df15d.groupby(\"cdAcao\")[\"pcMaxDia\"].apply(lambda x: (x>2.5).sum()).reset_index(name=\"resultado\")\n",
    "df30_15d = df15d.groupby(\"cdAcao\")[\"pcMaxDia\"].apply(lambda x: (x>3.0).sum()).reset_index(name=\"resultado\")\n",
    "dfVol_15d = df15d.groupby(\"cdAcao\")[\"vrVolume\"].agg(\"mean\").reset_index(name=\"vol\")\n",
    "dfVrFech_15d = df15d.groupby(\"cdAcao\")[\"vrFech\"].agg(\"mean\").reset_index(name=\"vrFech\")\n",
    "\n",
    "df05_20d = df20d.groupby(\"cdAcao\")[\"pcMaxDia\"].apply(lambda x: (x>0.5).sum()).reset_index(name=\"0.5%\")\n",
    "df10_20d = df20d.groupby(\"cdAcao\")[\"pcMaxDia\"].apply(lambda x: (x>1.0).sum()).reset_index(name=\"resultado\")\n",
    "df15_20d = df20d.groupby(\"cdAcao\")[\"pcMaxDia\"].apply(lambda x: (x>1.5).sum()).reset_index(name=\"resultado\")\n",
    "df20_20d = df20d.groupby(\"cdAcao\")[\"pcMaxDia\"].apply(lambda x: (x>2.0).sum()).reset_index(name=\"resultado\")\n",
    "df25_20d = df20d.groupby(\"cdAcao\")[\"pcMaxDia\"].apply(lambda x: (x>2.5).sum()).reset_index(name=\"resultado\")\n",
    "df30_20d = df20d.groupby(\"cdAcao\")[\"pcMaxDia\"].apply(lambda x: (x>3.0).sum()).reset_index(name=\"resultado\")\n",
    "dfVol_20d = df20d.groupby(\"cdAcao\")[\"vrVolume\"].agg(\"mean\").reset_index(name=\"vol\")\n",
    "dfVrFech_20d = df20d.groupby(\"cdAcao\")[\"vrFech\"].agg(\"mean\").reset_index(name=\"vrFech\")"
   ]
  },
  {
   "cell_type": "code",
   "execution_count": null,
   "metadata": {},
   "outputs": [],
   "source": [
    "df05[\"1.0%\"], df05[\"1.5%\"], df05[\"2.0%\"], df05[\"2.5%\"], df05[\"3.0%\"] , df05[\"AvgVol\"], df05[\"AvgVrFech\"] = [\n",
    "    df10[\"resultado\"],df15[\"resultado\"],df20[\"resultado\"],df25[\"resultado\"],df30[\"resultado\"],dfVol[\"vol\"],dfVrFech[\"vrFech\"]\n",
    "]\n",
    "\n",
    "df05_15d[\"1.0%\"], df05_15d[\"1.5%\"], df05_15d[\"2.0%\"], df05_15d[\"2.5%\"], df05_15d[\"3.0%\"] , df05_15d[\"AvgVol\"], df05_15d[\"AvgVrFech\"] = [\n",
    "    df10_15d[\"resultado\"],df15_15d[\"resultado\"],df20_15d[\"resultado\"],df25_15d[\"resultado\"],df30_15d[\"resultado\"],dfVol_15d[\"vol\"],dfVrFech_15d[\"vrFech\"]\n",
    "]\n",
    "\n",
    "df05_20d[\"1.0%\"], df05_20d[\"1.5%\"], df05_20d[\"2.0%\"], df05_20d[\"2.5%\"], df05_20d[\"3.0%\"] , df05_20d[\"AvgVol\"], df05_20d[\"AvgVrFech\"] = [\n",
    "    df10_20d[\"resultado\"],df15_20d[\"resultado\"],df20_20d[\"resultado\"],df25_20d[\"resultado\"],df30_20d[\"resultado\"],dfVol_20d[\"vol\"],dfVrFech_20d[\"vrFech\"]\n",
    "]"
   ]
  },
  {
   "cell_type": "code",
   "execution_count": null,
   "metadata": {
    "scrolled": true
   },
   "outputs": [],
   "source": [
    "df05     =     df05.reset_index(drop=True).sort_values([\"1.0%\", \"1.5%\", \"2.0%\", \"2.5%\", \"3.0%\"], ascending=False)\n",
    "df05_15d = df05_15d.reset_index(drop=True).sort_values([\"1.0%\", \"1.5%\", \"2.0%\", \"2.5%\", \"3.0%\"], ascending=False)\n",
    "df05_20d = df05_20d.reset_index(drop=True).sort_values([\"1.0%\", \"1.5%\", \"2.0%\", \"2.5%\", \"3.0%\"], ascending=False)"
   ]
  },
  {
   "cell_type": "code",
   "execution_count": null,
   "metadata": {},
   "outputs": [],
   "source": [
    "pd.set_option('display.max_rows', None)\n",
    "# df06 = df05.loc[(df05[\"AvgVol\"] > 6000000) & (df05[\"1.0%\"] >= 20) & (df05[\"AvgVrFech\"] > 5)]"
   ]
  },
  {
   "cell_type": "code",
   "execution_count": null,
   "metadata": {},
   "outputs": [],
   "source": [
    "df25d['vrVolume'] = df25d['vrVolume'].astype(int)\n",
    "df25d['vrVolume'] = df25d['vrVolume'].map('{:,}'.format)"
   ]
  },
  {
   "cell_type": "markdown",
   "metadata": {},
   "source": [
    "### 25 dias, Order by 1%"
   ]
  },
  {
   "cell_type": "code",
   "execution_count": null,
   "metadata": {
    "scrolled": false
   },
   "outputs": [],
   "source": [
    "df05.loc[(df05[\"AvgVol\"] > 6000000) & (df05[\"1.0%\"] >= 22) & (df05[\"AvgVrFech\"] > 5)]"
   ]
  },
  {
   "cell_type": "markdown",
   "metadata": {},
   "source": [
    "### 20 dias, Order by 1%"
   ]
  },
  {
   "cell_type": "code",
   "execution_count": null,
   "metadata": {},
   "outputs": [],
   "source": [
    "df05_20d.loc[(df05_20d[\"AvgVol\"] > 6000000) & (df05_20d[\"1.0%\"] >= 18) & (df05_20d[\"AvgVrFech\"] > 5)]"
   ]
  },
  {
   "cell_type": "markdown",
   "metadata": {},
   "source": [
    "### 15 dias, Order by 1%"
   ]
  },
  {
   "cell_type": "code",
   "execution_count": null,
   "metadata": {
    "scrolled": true
   },
   "outputs": [],
   "source": [
    "df05_15d.loc[(df05_15d[\"AvgVol\"] > 6000000) & (df05_15d[\"1.0%\"] >= 15) & (df05_15d[\"AvgVrFech\"] > 5)]"
   ]
  },
  {
   "cell_type": "code",
   "execution_count": null,
   "metadata": {},
   "outputs": [],
   "source": [
    "### 25 dias, Order by 0.5%\n",
    "# df05.loc[(df05[\"AvgVol\"] > 6000000) & (df05[\"0.5%\"] >= 23) & (df05[\"AvgVrFech\"] > 5)].sort_values([\"0.5%\", \"1.0%\", \"1.5%\", \"2.0%\"], ascending=False)\n",
    "### 20 dias, Order by 0.5%\n",
    "# df05_20d.loc[(df05_20d[\"AvgVol\"] > 6000000) & (df05_20d[\"0.5%\"] >= 19) & (df05_20d[\"AvgVrFech\"] > 5)].sort_values([\"0.5%\", \"1.0%\", \"1.5%\", \"2.0%\"], ascending=False)\n",
    "### 15 dias, Order by 0.5%\n",
    "# df05_15d.loc[(df05_15d[\"AvgVol\"] > 6000000) & (df05_15d[\"0.5%\"] >= 15) & (df05_15d[\"AvgVrFech\"] > 5)].sort_values([\"0.5%\", \"1.0%\", \"1.5%\", \"2.0%\"], ascending=False)"
   ]
  },
  {
   "cell_type": "markdown",
   "metadata": {},
   "source": [
    "### Consulta ação específica"
   ]
  },
  {
   "cell_type": "code",
   "execution_count": null,
   "metadata": {
    "scrolled": false
   },
   "outputs": [],
   "source": [
    "df25d.loc[(df25d[\"cdAcao\"] == \"BMOB3\")].replace(0, \"\")"
   ]
  },
  {
   "cell_type": "markdown",
   "metadata": {},
   "source": [
    "# Testes com botões e menus"
   ]
  },
  {
   "cell_type": "code",
   "execution_count": null,
   "metadata": {},
   "outputs": [],
   "source": [
    "import ipywidgets as widgets"
   ]
  },
  {
   "cell_type": "code",
   "execution_count": null,
   "metadata": {},
   "outputs": [],
   "source": [
    "from IPython.display import display, clear_output, Markdown"
   ]
  },
  {
   "cell_type": "code",
   "execution_count": null,
   "metadata": {},
   "outputs": [],
   "source": [
    "button = widgets.Button(description='25')\n",
    "out = widgets.Output()\n",
    "\n",
    "def on_button_clicked(_):\n",
    "      # \"linking function with output\"\n",
    "      with out:\n",
    "          # what happens when we press the button\n",
    "          clear_output()\n",
    "          print(df05.loc[(df05[\"AvgVol\"] > 6000000) & (df05[\"1.0%\"] >= 25) & (df05[\"AvgVrFech\"] > 5)])"
   ]
  },
  {
   "cell_type": "code",
   "execution_count": null,
   "metadata": {},
   "outputs": [],
   "source": [
    "# linking button and function together using a button's method\n",
    "button.on_click(on_button_clicked)\n",
    "# displaying button and its output together\n",
    "widgets.VBox([button,out])"
   ]
  },
  {
   "cell_type": "code",
   "execution_count": null,
   "metadata": {},
   "outputs": [],
   "source": [
    "menu = widgets.Dropdown(\n",
    "    options=[25, 20, 15],\n",
    "    value=25,\n",
    "    description=\"Qt Dias:\"\n",
    ")\n",
    "\n",
    "def on_change(change):\n",
    "    if change['type'] == 'change' and change['name'] == 'value':\n",
    "        clear_output()\n",
    "        display(menu)\n",
    "#       print(\"changed to %s\" % change['new'])\n",
    "        print(df05.loc[(df05[\"AvgVol\"] > 6000000) & (df05[\"1.0%\"] >= change['new']) & (df05[\"AvgVrFech\"] > 5)])\n",
    "        \n",
    "menu.observe(on_change)\n",
    "\n",
    "display(menu)"
   ]
  },
  {
   "cell_type": "code",
   "execution_count": null,
   "metadata": {},
   "outputs": [],
   "source": []
  }
 ],
 "metadata": {
  "kernelspec": {
   "display_name": "Python 3",
   "language": "python",
   "name": "python3"
  },
  "language_info": {
   "codemirror_mode": {
    "name": "ipython",
    "version": 3
   },
   "file_extension": ".py",
   "mimetype": "text/x-python",
   "name": "python",
   "nbconvert_exporter": "python",
   "pygments_lexer": "ipython3",
   "version": "3.8.3"
  }
 },
 "nbformat": 4,
 "nbformat_minor": 4
}
